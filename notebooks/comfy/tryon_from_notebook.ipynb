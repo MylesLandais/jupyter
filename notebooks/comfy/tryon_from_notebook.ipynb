{
 "cells": [
  {
   "cell_type": "markdown",
   "id": "d2236dbe",
   "metadata": {},
   "source": [
    "# Try-On from Notebook\n",
    "This notebook demonstrates calling a modular `ComfyClient` from `src/comfy` to build, submit, and poll a try-on workflow.\n",
    "\n",
    "**Usage**: Update `person_path` and `garment_path` to local sample images, then run cells."
   ]
  },
  {
   "cell_type": "code",
   "execution_count": null,
   "id": "ebb137c0",
   "metadata": {},
   "outputs": [],
   "source": [
    "from src.comfy.client import ComfyClient\n",
    "c = ComfyClient()\n",
    "wf = c.build_tryon_workflow('/path/to/person.jpg', '/path/to/garment.png', '/tmp/out.png', prompt='Try the garment on the person')\n",
    "run_id = c.submit_workflow(wf)\n",
    "out = c.poll_result(run_id)\n",
    "print('Result:', out)"
   ]
  }
 ],
 "metadata": {
  "language_info": {
   "name": "python"
  }
 },
 "nbformat": 4,
 "nbformat_minor": 5
}
