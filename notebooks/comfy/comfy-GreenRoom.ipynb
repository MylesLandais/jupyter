{
 "cells": [
  {
   "cell_type": "markdown",
   "id": "c93b92ef",
   "metadata": {},
   "source": [
    "# Comfy Green Room\n",
    "A playful notebook (the 'Green Room') to build, submit, and poll ComfyUI try-on workflows from `src/comfy`.\n",
    "\n",
    "Update `person_path` and `garment_path` to local sample images before running."
   ]
  },
  {
   "cell_type": "code",
   "execution_count": null,
   "id": "04a850a4",
   "metadata": {},
   "outputs": [],
   "source": [
    "from src.comfy.client import ComfyClient\n",
    "c = ComfyClient()\n",
    "wf = c.build_tryon_workflow('/path/to/person.jpg', '/path/to/garment.png', '/tmp/out.png', prompt='Try the garment on the person')\n",
    "run_id = c.submit_workflow(wf)\n",
    "out = c.poll_result(run_id)\n",
    "print('Result:', out)"
   ]
  }
 ],
 "metadata": {
  "language_info": {
   "name": "python"
  }
 },
 "nbformat": 4,
 "nbformat_minor": 5
}
