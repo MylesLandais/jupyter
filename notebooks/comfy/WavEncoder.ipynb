{
 "cells": [
  {
   "cell_type": "code",
   "execution_count": 1,
   "id": "68437e67-72ef-43e7-9022-81e056d64d2b",
   "metadata": {},
   "outputs": [
    {
     "name": "stdout",
     "output_type": "stream",
     "text": [
      "Successfully encoded 'maya.wav' to base64.\n",
      "Output saved to: /home/jovyan/workspaces/notebooks/comfy/maya_base64.txt\n"
     ]
    }
   ],
   "source": [
    "import base64\n",
    "import os\n",
    "\n",
    "# --- 1. Define File Names ---\n",
    "input_audio_file = 'maya.wav'\n",
    "output_text_file = 'maya_base64.txt'\n",
    "\n",
    "# --- 2. Read, Encode, and Write the File ---\n",
    "try:\n",
    "    # Open the audio file in binary read mode ('rb')\n",
    "    with open(input_audio_file, 'rb') as audio_file:\n",
    "        # Read the entire binary content\n",
    "        audio_bytes = audio_file.read()\n",
    "        \n",
    "        # Encode the binary content into base64 bytes\n",
    "        base64_bytes = base64.b64encode(audio_bytes)\n",
    "        \n",
    "        # Decode the base64 bytes into a UTF-8 string to save in a text file\n",
    "        base64_string = base64_bytes.decode('utf-8')\n",
    "\n",
    "    # Write the base64 string to the output text file\n",
    "    with open(output_text_file, 'w') as text_file:\n",
    "        text_file.write(base64_string)\n",
    "\n",
    "    # Get the full path for a clear success message\n",
    "    output_path = os.path.abspath(output_text_file)\n",
    "    print(f\"Successfully encoded '{input_audio_file}' to base64.\")\n",
    "    print(f\"Output saved to: {output_path}\")\n",
    "\n",
    "except FileNotFoundError:\n",
    "    print(f\"Error: The file '{input_audio_file}' was not found.\")\n",
    "    print(\"Please make sure 'maya.wav' is in the same directory as this notebook.\")\n",
    "except Exception as e:\n",
    "    print(f\"An unexpected error occurred: {e}\")"
   ]
  },
  {
   "cell_type": "code",
   "execution_count": null,
   "id": "59c16cb9-ac84-438c-b500-2fe8a3720ef8",
   "metadata": {},
   "outputs": [],
   "source": []
  }
 ],
 "metadata": {
  "kernelspec": {
   "display_name": "Python 3 (ipykernel)",
   "language": "python",
   "name": "python3"
  },
  "language_info": {
   "codemirror_mode": {
    "name": "ipython",
    "version": 3
   },
   "file_extension": ".py",
   "mimetype": "text/x-python",
   "name": "python",
   "nbconvert_exporter": "python",
   "pygments_lexer": "ipython3",
   "version": "3.11.10"
  }
 },
 "nbformat": 4,
 "nbformat_minor": 5
}
