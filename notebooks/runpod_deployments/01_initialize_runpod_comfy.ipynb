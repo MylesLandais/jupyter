{
 "cells": [
  {
   "cell_type": "markdown",
   "metadata": {
    "jupyter": {
     "source_hidden": true
    }
   },
   "source": [
    "# RunPod ComfyUI Initialization (Modular Approach)\n",
    "\n",
    "This notebook demonstrates the new modular, functional approach to RunPod deployments. It uses the updated configuration system for managing favorite images and GPU configurations.\n",
    "\n",
    "## Prerequisites\n",
    "- RunPod API key set in `.env` file\n",
    "- `runpod` Python package installed\n",
    "- Optional: RunPod Network Volume ID for persistent storage"
   ]
  },
  {
   "cell_type": "code",
   "execution_count": null,
   "metadata": {
    "collapsed": true,
    "jupyter": {
     "outputs_hidden": true,
     "source_hidden": true
    }
   },
   "outputs": [],
   "source": [
    "# Install required packages if not already installed\n",
    "!pip install runpod python-dotenv ipywidgets tqdm requests"
   ]
  },
  {
   "cell_type": "code",
   "execution_count": null,
   "metadata": {},
   "outputs": [],
   "source": [
    "import sys\n",
    "import os\n",
    "import time\n",
    "import json\n",
    "import requests\n",
    "\n",
    "from dotenv import load_dotenv\n",
    "from datetime import datetime\n",
    "from tqdm.notebook import tqdm\n",
    "import ipywidgets as widgets\n",
    "from IPython.display import display, HTML, clear_output\n",
    "\n",
    "# Add src to path so we can import our modules\n",
    "sys.path.append('../../src')\n",
    "\n",
    "from infra.runpod_manager import RunPodManager\n",
    "from infra.runpod_config import (\n",
    "    list_favorite_images,\n",
    "    list_gpu_configs,\n",
    "    get_image_details,\n",
    "    get_gpu_details,\n",
    "    get_deployment_config,\n",
    "    recommend_deployment_config\n",
    ")"
   ]
  },
  {
   "cell_type": "markdown",
   "metadata": {},
   "source": [
    "## Configuration and Authentication"
   ]
  },
  {
   "cell_type": "code",
   "execution_count": null,
   "metadata": {},
   "outputs": [],
   "source": [
    "# Load environment variables\n",
    "load_dotenv()\n",
    "\n",
    "RUNPOD_API_KEY = os.getenv(\"RUNPOD_API_KEY\")\n",
    "if not RUNPOD_API_KEY:\n",
    "    raise ValueError(\"RUNPOD_API_KEY environment variable not set. Please set it in your .env file.\")\n",
    "\n",
    "print(f\"RunPod API key loaded: {RUNPOD_API_KEY[:8]}...{RUNPOD_API_KEY[-4:]}\")"
   ]
  },
  {
   "cell_type": "markdown",
   "metadata": {},
   "source": [
    "## Available Deployment Options\n",
    "\n",
    "Let's explore the new modular configuration system that tracks favorite images and GPU configurations."
   ]
  },
  {
   "cell_type": "code",
   "execution_count": null,
   "metadata": {},
   "outputs": [],
   "source": [
    "def display_available_options():\n",
    "    \"\"\"Display all available images and GPU configurations.\"\"\"\n",
    "    print(\"=== Available Favorite Images ===\")\n",
    "    for image_key in list_favorite_images():\n",
    "        details = get_image_details(image_key)\n",
    "        print(f\"  {image_key}: {details['description']}\")\n",
    "        print(f\"    Default GPU: {details['default_gpu']}\")\n",
    "        print(f\"    Tags: {', '.join(details['tags'])}\")\n",
    "        print()\n",
    "\n",
    "    print(\"=== Available GPU Configurations ===\")\n",
    "    for gpu_key in list_gpu_configs():\n",
    "        details = get_gpu_details(gpu_key)\n",
    "        print(f\"  {gpu_key}: {details['name']} ({details['vram_gb']}GB VRAM)\")\n",
    "        print(f\"    Cost effectiveness: {details['cost_effectiveness']}\")\n",
    "        print(f\"    Use cases: {', '.join(details['use_cases'])}\")\n",
    "        print()\n",
    "\n",
    "display_available_options()"
   ]
  },
  {
   "cell_type": "markdown",
   "metadata": {},
   "source": [
    "## Initialize RunPod Manager\n",
    "\n",
    "Create an instance of the RunPodManager to handle our deployments."
   ]
  },
  {
   "cell_type": "code",
   "execution_count": null,
   "metadata": {},
   "outputs": [],
   "source": [
    "# Initialize RunPod manager\n",
    "try:\n",
    "    manager = RunPodManager(RUNPOD_API_KEY)\n",
    "    print(\"✅ RunPod manager initialized successfully!\")\n",
    "except Exception as e:\n",
    "    print(f\"❌ Failed to initialize RunPod manager: {e}\")\n",
    "    manager = None"
   ]
  },
  {
   "cell_type": "markdown",
   "metadata": {},
   "source": [
    "## Deployment Examples\n",
    "\n",
    "Let's demonstrate the various deployment approaches with the new modular system."
   ]
  },
  {
   "cell_type": "code",
   "execution_count": null,
   "metadata": {},
   "outputs": [],
   "source": [
    "def deploy_pod_example_1():\n",
    "    \"\"\"Deploy using a preset configuration - the simplest approach.\"\"\"\n",
    "    if not manager:\n",
    "        print(\"Manager not initialized\")\n",
    "        return None\n",
    "        \n",
    "    print(\"🚀 Deploying ComfyUI with default configuration...\")\n",
    "    try:\n",
    "        pod = manager.create_pod_from_config(\n",
    "            name=\"comfyui-modular-default\",\n",
    "            config_name=\"comfyui-default\"\n",
    "        )\n",
    "        print(f\"✅ Pod created successfully with ID: {pod['id']}\")\n",
    "        return pod\n",
    "    except Exception as e:\n",
    "        print(f\"❌ Failed to create pod: {e}\")\n",
    "        return None\n",
    "\n",
    "def deploy_pod_example_2():\n",
    "    \"\"\"Deploy optimized for a specific use case with budget constraints.\"\"\"\n",
    "    if not manager:\n",
    "        print(\"Manager not initialized\")\n",
    "        return None\n",
    "        \n",
    "    print(\"🚀 Deploying ComfyUI optimized for large models with low budget...\")\n",
    "    try:\n",
    "        pod = manager.create_pod_for_use_case(\n",
    "            name=\"comfyui-budget-optimized\",\n",
    "            use_case=\"comfyui-large\",\n",
    "            budget_level=\"low\",\n",
    "            required_vram_gb=20\n",
    "        )\n",
    "        print(f\"✅ Pod created successfully with ID: {pod['id']}\")\n",
    "        return pod\n",
    "    except Exception as e:\n",
    "        print(f\"❌ Failed to create pod: {e}\")\n",
    "        return None\n",
    "\n",
    "def deploy_pod_example_3():\n",
    "    \"\"\"Deploy with custom overrides to a preset configuration.\"\"\"\n",
    "    if not manager:\n",
    "        print(\"Manager not initialized\")\n",
    "        return None\n",
    "        \n",
    "    print(\"🚀 Deploying Jupyter ML environment with custom volume size...\")\n",
    "    try:\n",
    "        pod = manager.create_pod_from_config(\n",
    "            name=\"jupyter-ml-custom\",\n",
    "            config_name=\"jupyter-ml\",\n",
    "            volume_in_gb=200,  # Override default volume size\n",
    "            env={\n",
    "                \"JUPYTER_ENABLE_LAB\": \"yes\",\n",
    "                \"CUSTOM_ENV_VAR\": \"custom_value\"\n",
    "            }\n",
    "        )\n",
    "        print(f\"✅ Pod created successfully with ID: {pod['id']}\")\n",
    "        return pod\n",
    "    except Exception as e:\n",
    "        print(f\"❌ Failed to create pod: {e}\")\n",
    "        return None\n",
    "\n",
    "# Run the examples\n",
    "pod1 = deploy_pod_example_1()\n",
    "pod2 = deploy_pod_example_2()\n",
    "pod3 = deploy_pod_example_3()"
   ]
  },
  {
   "cell_type": "markdown",
   "metadata": {},
   "source": [
    "## Wait for Pods to be Ready\n",
    "\n",
    "Let's wait for our deployed pods to become ready for use."
   ]
  },
  {
   "cell_type": "code",
   "execution_count": null,
   "metadata": {},
   "outputs": [],
   "source": [
    "def wait_for_pods_ready(pods, timeout=300):\n",
    "    \"\"\"Wait for multiple pods to become ready.\"\"\"\n",
    "    if not manager:\n",
    "        print(\"Manager not initialized\")\n",
    "        return\n",
    "        \n",
    "    ready_pods = []\n",
    "    for pod in pods:\n",
    "        if not pod:\n",
    "            continue\n",
    "            \n",
    "        pod_id = pod['id']\n",
    "        print(f\"⏳ Waiting for pod {pod_id} to become ready (timeout: {timeout}s)...\" )\n",
    "        ready_pod = manager.wait_for_pod_running(pod_id, timeout)\n",
    "        if ready_pod:\n",
    "            print(f\"✅ Pod {pod_id} is ready!\")\n",
    "            ready_pods.append(ready_pod)\n",
    "        else:\n",
    "            print(f\"❌ Timed out waiting for pod {pod_id} to become ready\")\n",
    "    \n",
    "    return ready_pods\n",
    "\n",
    "# Wait for our deployed pods\n",
    "deployed_pods = [pod for pod in [pod1, pod2, pod3] if pod is not None]\n",
    "ready_pods = wait_for_pods_ready(deployed_pods)"
   ]
  },
  {
   "cell_type": "markdown",
   "metadata": {},
   "source": [
    "## List Active Pods\n",
    "\n",
    "Let's check what pods we currently have running."
   ]
  },
  {
   "cell_type": "code",
   "execution_count": null,
   "metadata": {},
   "outputs": [],
   "source": [
    "def list_active_pods():\n",
    "    \"\"\"List all active pods.\"\"\"\n",
    "    if not manager:\n",
    "        print(\"Manager not initialized\")\n",
    "        return\n",
    "        \n",
    "    try:\n",
    "        pods = manager.get_active_pods()\n",
    "        print(f\"\\n📋 Found {len(pods)} active pod(s):\\n\")\n",
    "        \n",
    "        for pod in pods:\n",
    "            print(f\"  Name: {pod.get('name', 'N/A')}\")\n",
    "            print(f\"  ID: {pod.get('id', 'N/A')}\")\n",
    "            print(f\"  Status: {pod.get('desiredStatus', 'N/A')}\")\n",
    "            print(f\"  GPU: {pod.get('gpuTypeId', 'N/A')}\")\n",
    "            print(f\"  Created: {pod.get('createdAt', 'N/A')}\")\n",
    "            print(\"  \" + \"-\" * 40)\n",
    "    except Exception as e:\n",
    "        print(f\"❌ Failed to list pods: {e}\")\n",
    "\n",
    "list_active_pods()"
   ]
  },
  {
   "cell_type": "markdown",
   "metadata": {},
   "source": [
    "## Clean Up (Optional)\n",
    "\n",
    "If you want to clean up the pods created in this notebook, uncomment and run the following cell."
   ]
  },
  {
   "cell_type": "code",
   "execution_count": null,
   "metadata": {},
   "outputs": [],
   "source": [
    "# ⚠️ WARNING: This will terminate all active pods!\n",
    "# Only run this if you want to clean up all pods created in this session.\n",
    "\n",
    "# def cleanup_session_pods():\n",
    "#     \"\"\"Clean up pods created in this session.\"\"\"\n",
    "#     session_pods = [\"comfyui-modular-default\", \"comfyui-budget-optimized\", \"jupyter-ml-custom\"]\n",
    "#     \n",
    "#     if not manager:\n",
    "#         print(\"Manager not initialized\")\n",
    "#         return\n",
    "#         \n",
    "#     try:\n",
    "#         all_pods = manager.get_active_pods()\n",
    "#         terminated_count = 0\n",
    "#         \n",
    "#         for pod in all_pods:\n",
    "#             if pod.get('name') in session_pods:\n",
    "#                 pod_id = pod.get('id')\n",
    "#                 print(f\"Terminating pod: {pod.get('name')} (ID: {pod_id})\")\n",
    "#                 try:\n",
    "#                     manager.terminate_pod(pod_id)\n",
    "#                     terminated_count += 1\n",
    "#                 except Exception as e:\n",
    "#                     print(f\"  - Error terminating pod {pod_id}: {e}\")\n",
    "#         \n",
    "#         print(f\"\\n✅ Terminated {terminated_count} session pods\")\n",
    "#     except Exception as e:\n",
    "#         print(f\"❌ Failed to clean up pods: {e}\")\n",
    "\n",
    "# # Uncomment the line below to run cleanup\n",
    "# # cleanup_session_pods()"
   ]
  },
  {
   "cell_type": "markdown",
   "metadata": {},
   "source": [
    "## Summary\n",
    "\n",
    "This notebook demonstrated the new modular, functional approach to RunPod deployments:\n",
    "\n",
    "1. **Configuration System**: We now have a centralized configuration system that tracks favorite images and GPU configurations.\n",
    "\n",
    "2. **Deployment Methods**:\n",
    "   - `create_pod_from_config()`: Deploy using predefined configurations\n",
    "   - `create_pod_for_use_case()`: Deploy optimized for specific use cases with budget constraints\n",
    "   - `create_pod()`: Traditional custom deployment (still available)\n",
    "\n",
    "3. **GPU Selection Logic**: The system automatically recommends appropriate GPUs based on:\n",
    "   - VRAM requirements\n",
    "   - Budget constraints\n",
    "   - Use case requirements\n",
    "\n",
    "4. **Common GPU Configurations**:\n",
    "   - **96GB VRAM**: Used when no budget is set and maximum resources are needed\n",
    "   - **5090**: Sometimes used for large models (\"-large\" tag)\n",
    "   - **3090**: Cost-effective default option\n",
    "\n",
    "This approach makes deployments more consistent, reproducible, and easier to manage across different environments and use cases."
   ]
  }
 ],
 "metadata": {
  "kernelspec": {
   "display_name": "Python 3",
   "language": "python",
   "name": "python3"
  },
  "language_info": {
   "codemirror_mode": {
    "name": "ipython",
    "version": 3
   },
   "file_extension": ".py",
   "mimetype": "text/x-python",
   "name": "python",
   "nbconvert_exporter": "python",
   "pygments_lexer": "ipython3",
   "version": "3.8.5"
  }
 },
 "nbformat": 4,
 "nbformat_minor": 4
}
