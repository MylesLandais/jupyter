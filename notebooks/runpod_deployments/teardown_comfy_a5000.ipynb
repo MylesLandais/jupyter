{
 "cells": [
  {
   "cell_type": "markdown",
   "metadata": {},
   "source": [
    "# Teardown ComfyUI deployment on RunPod (A5000)\n",
    "\n",
    "This notebook contains a safe teardown flow for a deployment created with the new A5000 deployment script. By default it is a dry run.\n",
    "\n",
    "**Assumptions:**\n",
    "\n",
    "- `runpodctl` is installed and you are authenticated.\n",
    "\n",
    "- The deployment name below matches the one you created."
   ]
  },
  {
   "cell_type": "code",
   "execution_count": null,
   "metadata": {},
   "outputs": [],
   "source": [
    "import subprocess, os\n",
    "\n",
    "DRY_RUN = True  # Set to False to actually run the delete command\n",
    "\n",
    "def run(cmd):\n",
    "    print('\\n$ ' + ' '.join(cmd))\n",
    "    \n",
    "    if not DRY_RUN:\n",
    "        subprocess.run(cmd, check=True)"
   ]
  },
  {
   "cell_type": "markdown",
   "metadata": {},
   "source": [
    "## Delete the deployment\n",
    "\n",
    "Change `deployment_name` to match your instance. The `deployments delete` subcommand is used as a reasonable assumption."
   ]
  },
  {
   "cell_type": "code",
   "execution_count": null,
   "metadata": {},
   "outputs": [],
   "source": [
    "deployment_name = 'comfyui-staging-a5000'\n",
    "\n",
    "run(['runpodctl', 'deployments', 'delete', '--name', deployment_name])\n",
    "\n",
    "if DRY_RUN:\n",
    "    print('\\nDry run complete — set DRY_RUN = False to execute')"
   ]
  },
  {
   "cell_type": "markdown",
   "metadata": {},
   "source": [
    "## Alternative: Terminate individual pods\n",
    "\n",
    "If you created individual pods instead of deployments, you can terminate them using the Python API:"
   ]
  },
  {
   "cell_type": "code",
   "execution_count": null,
   "metadata": {},
   "outputs": [],
   "source": [
    "import sys\n",
    "import os\n",
    "\n",
    "# Add the project root directory to the Python path\n",
    "project_root = os.path.dirname(os.path.dirname(os.path.dirname(os.path.abspath('.'))))\n",
    "sys.path.insert(0, project_root)\n",
    "\n",
    "from src.infra.runpod_manager import RunPodManager\n",
    "\n",
    "def terminate_comfy_pods():\n",
    "    \"\"\"Terminate all ComfyUI pods.\"\"\"\n",
    "    try:\n",
    "        # Create an instance of RunPodManager\n",
    "        manager = RunPodManager()\n",
    "        print(\"✅ RunPod manager initialized\")\n",
    "        \n",
    "        # List all active pods\n",
    "        print(\"\\n📋 Getting active pods...\")\n",
    "        active_pods = manager.get_active_pods()\n",
    "        \n",
    "        # Filter for ComfyUI pods\n",
    "        comfy_pods = [pod for pod in active_pods if 'comfyui' in pod.get('name', '').lower()]\n",
    "        \n",
    "        if not comfy_pods:\n",
    "            print(\"✅ No active ComfyUI pods found.\")\n",
    "            return\n",
    "        \n",
    "        print(f\"Found {len(comfy_pods)} active ComfyUI pod(s):\")\n",
    "        print(\"-\" * 30)\n",
    "        \n",
    "        # Display pod information\n",
    "        for i, pod in enumerate(comfy_pods, 1):\n",
    "            print(f\"{i}. Name: {pod.get('name', 'N/A')}\")\n",
    "            print(f\"   ID: {pod.get('id', 'N/A')}\")\n",
    "            print(f\"   Status: {pod.get('desiredStatus', 'N/A')}\")\n",
    "            print(f\"   GPU: {pod.get('gpuTypeId', 'N/A')}\")\n",
    "            print(f\"   Interruptible: {pod.get('interruptible', False)}\")\n",
    "            print()\n",
    "        \n",
    "        # Terminate all ComfyUI pods\n",
    "        print(\"🛑 Terminating ComfyUI pods...\")\n",
    "        for pod in comfy_pods:\n",
    "            pod_id = pod.get('id')\n",
    "            pod_name = pod.get('name', 'Unknown')\n",
    "            print(f\"Terminating pod: {pod_name} (ID: {pod_id})...\")\n",
    "            try:\n",
    "                manager.terminate_pod(pod_id)\n",
    "                print(f\"  ✅ Pod {pod_id} termination requested\")\n",
    "            except Exception as e:\n",
    "                print(f\"  ❌ Error terminating pod {pod_id}: {e}\")\n",
    "                \n",
    "    except Exception as e:\n",
    "        print(f\"❌ Error: {e}\")\n",
    "\n",
    "# Uncomment the line below to run termination\n",
    "# terminate_comfy_pods()"
   ]
  }
 ],
 "metadata": {
  "kernelspec": {
   "display_name": "Python 3",
   "language": "python",
   "name": "python3"
  },
  "language_info": {
   "codemirror_mode": {
    "name": "ipython",
    "version": 3
   },
   "file_extension": ".py",
   "mimetype": "text/x-python",
   "name": "python",
   "nbconvert_exporter": "python",
   "pygments_lexer": "ipython3",
   "version": "3.8.5"
  }
 },
 "nbformat": 4,
 "nbformat_minor": 4
}