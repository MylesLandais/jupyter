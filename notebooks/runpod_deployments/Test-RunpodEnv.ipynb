{
 "cells": [
  {
   "cell_type": "code",
   "execution_count": 1,
   "id": "bb070f81-2ec9-40b5-9132-3922fa215ca2",
   "metadata": {},
   "outputs": [
    {
     "name": "stderr",
     "output_type": "stream",
     "text": [
      "/opt/conda/lib/python3.11/site-packages/tqdm/auto.py:21: TqdmWarning: IProgress not found. Please update jupyter and ipywidgets. See https://ipywidgets.readthedocs.io/en/stable/user_install.html\n",
      "  from .autonotebook import tqdm as notebook_tqdm\n"
     ]
    }
   ],
   "source": [
    "import runpod"
   ]
  },
  {
   "cell_type": "code",
   "execution_count": 3,
   "id": "113c3cba-ecb5-4977-b70d-cdd706016ca6",
   "metadata": {},
   "outputs": [
    {
     "name": "stdout",
     "output_type": "stream",
     "text": [
      "Set runpod_api_key =  rpa_6R0NGJYCZ99O\n",
      "Redacted full api_keys from logs\n"
     ]
    }
   ],
   "source": [
    "# initialize_runpod_ollama.py\n",
    "import os\n",
    "import time\n",
    "import json\n",
    "from dotenv import load_dotenv\n",
    "\n",
    "# Load environment variables from.env file (e.g., RUNPOD_API_KEY, RUNPOD_NETWORK_VOLUME_ID)\n",
    "load_dotenv()\n",
    "\n",
    "RUNPOD_API_KEY = os.getenv(\"RUNPOD_API_KEY\")\n",
    "if not RUNPOD_API_KEY:\n",
    "    raise ValueError(\"RUNPOD_API_KEY environment variable not set. Please set it in your.env file or environment.\")\n",
    "runpod.api_key = RUNPOD_API_KEY\n",
    "\n",
    "if(runpod.api_key):\n",
    "    print(\"Set runpod_api_key = \", runpod.api_key[:16])\n",
    "    print(\"Redacted full api_keys from logs\")"
   ]
  },
  {
   "cell_type": "code",
   "execution_count": null,
   "id": "5b3459fe-4239-4fa4-9fd8-a1b2e47676d9",
   "metadata": {},
   "outputs": [],
   "source": []
  }
 ],
 "metadata": {
  "kernelspec": {
   "display_name": "Python 3 (ipykernel)",
   "language": "python",
   "name": "python3"
  },
  "language_info": {
   "codemirror_mode": {
    "name": "ipython",
    "version": 3
   },
   "file_extension": ".py",
   "mimetype": "text/x-python",
   "name": "python",
   "nbconvert_exporter": "python",
   "pygments_lexer": "ipython3",
   "version": "3.11.10"
  }
 },
 "nbformat": 4,
 "nbformat_minor": 5
}
