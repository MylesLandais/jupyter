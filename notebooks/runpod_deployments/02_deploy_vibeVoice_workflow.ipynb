{
 "cells": [
  {
   "cell_type": "markdown",
   "metadata": {},
   "source": [
    "# Deploy VibeVoice Workflow to ComfyUI\n",
    "\n",
    "This notebook deploys the VibeVoice workflow to an existing ComfyUI instance on RunPod. It will:\n",
    "\n",
    "1. Install the VibeVoice custom node\n",
    "2. Download the required VibeVoice-Large model\n",
    "3. Configure a basic VibeVoice workflow\n",
    "4. Validate the setup\n",
    "\n",
    "## Prerequisites\n",
    "\n",
    "- RunPod API key set in `.env` file\n",
    "- `runpod` Python package installed\n",
    "- An existing ComfyUI pod running on RunPod"
   ]
  },
  {
   "cell_type": "code",
   "execution_count": null,
   "metadata": {},
   "outputs": [],
   "source": [
    "# Install required packages if not already installed\n",
    "!pip install runpod python-dotenv ipywidgets tqdm requests"
   ]
  },
  {
   "cell_type": "code",
   "execution_count": null,
   "metadata": {},
   "outputs": [],
   "source": [
    "import os\n",
    "import sys\n",
    "import time\n",
    "import json\n",
    "import requests\n",
    "\n",
    "from dotenv import load_dotenv\n",
    "from datetime import datetime\n",
    "from tqdm.notebook import tqdm\n",
    "import ipywidgets as widgets\n",
    "from IPython.display import display, HTML, clear_output\n",
    "\n",
    "# Add src to path so we can import our modules\n",
    "sys.path.append('../../src')\n",
    "\n",
    "import runpod\n",
    "from infra.vibe_voice_manager import VibeVoiceManager, ValidationResult"
   ]
  },
  {
   "cell_type": "markdown",
   "metadata": {},
   "source": [
    "## Configuration and Authentication"
   ]
  },
  {
   "cell_type": "code",
   "execution_count": null,
   "metadata": {},
   "outputs": [],
   "source": [
    "# Load environment variables\n",
    "load_dotenv()\n",
    "\n",
    "RUNPOD_API_KEY = os.getenv(\"RUNPOD_API_KEY\")\n",
    "if not RUNPOD_API_KEY:\n",
    "    raise ValueError(\"RUNPOD_API_KEY environment variable not set. Please set it in your .env file.\")\n",
    "\n",
    "runpod.api_key = RUNPOD_API_KEY\n",
    "print(f\"RunPod API key loaded: {RUNPOD_API_KEY[:16]}...\")"
   ]
  },
  {
   "cell_type": "markdown",
   "metadata": {},
   "source": [
    "## Select ComfyUI Pod\n",
    "\n",
    "First, let's list all available ComfyUI pods and select one to deploy VibeVoice to."
   ]
  },
  {
   "cell_type": "code",
   "execution_count": null,
   "metadata": {},
   "outputs": [],
   "source": [
    "def list_comfyui_pods():\n",
    "    \"\"\"List all active ComfyUI pods for the current account.\"\"\"\n",
    "    try:\n",
    "        pods = runpod.get_pods()\n",
    "        comfyui_pods = [pod for pod in pods if 'ComfyUI' in pod.get('name', '') and \n",
    "                       pod.get('desiredStatus') not in ('TERMINATED', 'DELETED')]\n",
    "        \n",
    "        if not comfyui_pods:\n",
    "            print(\"No active ComfyUI pods found.\")\n",
    "            return []\n",
    "        \n",
    "        print(f\"Found {len(comfyui_pods)} active ComfyUI pod(s):\\n\")\n",
    "        \n",
    "        for i, pod in enumerate(comfyui_pods):\n",
    "            name = pod.get('name', 'N/A')\n",
    "            pod_id = pod.get('id', 'N/A')\n",
    "            status = pod.get('desiredStatus', 'N/A')\n",
    "            gpu_type = pod.get('gpuType', 'N/A')\n",
    "            uptime = pod.get('runtime', {}).get('uptimeInSeconds', 0)\n",
    "            \n",
    "            print(f\"{i+1}. Pod: {name} (ID: {pod_id})\")\n",
    "            print(f\"   Status: {status} | GPU: {gpu_type} | Uptime: {uptime}s\")\n",
    "            print()\n",
    "        \n",
    "        return comfyui_pods\n",
    "        \n",
    "    except Exception as e:\n",
    "        print(f\"Error listing pods: {e}\")\n",
    "        return []\n",
    "\n",
    "# List current active pods\n",
    "active_pods = list_comfyui_pods()"
   ]
  },
  {
   "cell_type": "code",
   "execution_count": null,
   "metadata": {},
   "outputs": [],
   "source": [
    "# Interactive widget for pod selection\n",
    "if active_pods:\n",
    "    pod_options = [(f\"{pod.get('name', 'N/A')} (ID: {pod.get('id', 'N/A')})\", pod.get('id')) for pod in active_pods]\n",
    "    pod_selector = widgets.Dropdown(\n",
    "        options=pod_options,\n",
    "        description='Select Pod:',\n",
    "        style={'description_width': 'initial'}\n",
    "    )\n",
    "    \n",
    "    display(pod_selector)\n",
    "else:\n",
    "    print(\"No active ComfyUI pods found. Please create one first using the 01_initialize_runpod_comfy.ipynb notebook.\")"
   ]
  },
  {
   "cell_type": "markdown",
   "metadata": {},
   "source": [
    "## Deploy VibeVoice Workflow\n",
    "\n",
    "Now we'll deploy the VibeVoice workflow to the selected pod."
   ]
  },
  {
   "cell_type": "code",
   "execution_count": null,
   "metadata": {},
   "outputs": [],
   "source": [
    "def deploy_vibe_voice_workflow(pod_id):\n",
    "    \"\"\"Deploy VibeVoice workflow to the specified pod.\"\"\"\n",
    "    print(f\"Deploying VibeVoice workflow to pod {pod_id}...\")\n",
    "    \n",
    "    # Initialize VibeVoiceManager\n",
    "    manager = VibeVoiceManager(RUNPOD_API_KEY)\n",
    "    \n",
    "    # Step 1: Install VibeVoice custom node\n",
    "    print(\"\\n1. Installing VibeVoice custom node...\")\n",
    "    if manager.install_vibeVoice_nodes(pod_id):\n",
    "        print(\"✓ VibeVoice custom node installed successfully\")\n",
    "    else:\n",
    "        print(\"✗ Failed to install VibeVoice custom node\")\n",
    "        return False\n",
    "    \n",
    "    # Step 2: Download VibeVoice models\n",
    "    print(\"\\n2. Downloading VibeVoice-Large model...\")\n",
    "    if manager.download_vibeVoice_models(pod_id):\n",
    "        print(\"✓ VibeVoice-Large model downloaded successfully\")\n",
    "    else:\n",
    "        print(\"✗ Failed to download VibeVoice-Large model\")\n",
    "        return False\n",
    "    \n",
    "    # Step 3: Configure VibeVoice workflow\n",
    "    print(\"\\n3. Configuring VibeVoice workflow...\")\n",
    "    workflow_path = manager.configure_vibeVoice_workflow(pod_id)\n",
    "    if workflow_path:\n",
    "        print(f\"✓ VibeVoice workflow configured at {workflow_path}\")\n",
    "    else:\n",
    "        print(\"✗ Failed to configure VibeVoice workflow\")\n",
    "        return False\n",
    "    \n",
    "    # Step 4: Validate setup\n",
    "    print(\"\\n4. Validating VibeVoice setup...\")\n",
    "    validation_result = manager.validate_vibeVoice_setup(pod_id)\n",
    "    \n",
    "    if validation_result.success:\n",
    "        print(\"✓ VibeVoice setup validation passed\")\n",
    "        print(f\"  Checks passed: {sum(validation_result.checks.values())}/{len(validation_result.checks)}\")\n",
    "    else:\n",
    "        print(\"⚠ VibeVoice setup validation has issues:\")\n",
    "        for error in validation_result.errors:\n",
    "            print(f\"  - Error: {error}\")\n",
    "        for warning in validation_result.warnings:\n",
    "            print(f\"  - Warning: {warning}\")\n",
    "    \n",
    "    # Display validation details\n",
    "    if validation_result.details:\n",
    "        print(\"\\nValidation Details:\")\n",
    "        for key, value in validation_result.details.items():\n",
    "            print(f\"  {key}: {value}\")\n",
    "    \n",
    "    return validation_result.success\n",
    "\n",
    "# Deploy VibeVoice workflow if a pod is selected\n",
    "if 'pod_selector' in locals() and pod_selector.value:\n",
    "    pod_id = pod_selector.value\n",
    "    success = deploy_vibe_voice_workflow(pod_id)\n",
    "    \n",
    "    if success:\n",
    "        print(\"\\n🎉 VibeVoice workflow deployed successfully!\")\n",
    "    else:\n",
    "        print(\"\\n❌ VibeVoice workflow deployment failed.\")\n",
    "else:\n",
    "    print(\"No pod selected. Please select a pod from the dropdown above.\")"
   ]
  },
  {
   "cell_type": "markdown",
   "metadata": {},
   "source": [
    "## Test VibeVoice Workflow\n",
    "\n",
    "Let's test the deployed VibeVoice workflow by sending a sample request."
   ]
  },
  {
   "cell_type": "code",
   "execution_count": null,
   "metadata": {},
   "outputs": [],
   "source": [
    "def get_comfyui_url(pod_id):\n",
    "    \"\"\"Get the ComfyUI URL for the specified pod.\"\"\"\n",
    "    try:\n",
    "        pod = runpod.get_pod(pod_id)\n",
    "        if not pod:\n",
    "            return None\n",
    "            \n",
    "        ports_info = pod.get('ports', {})\n",
    "        if isinstance(ports_info, str):\n",
    "            try:\n",
    "                ports_info = json.loads(ports_info)\n",
    "            except:\n",
    "                ports_info = {}\n",
    "        \n",
    "        comfyui_port_info = ports_info.get('8188/http', {})\n",
    "        return comfyui_port_info.get('publicUrl', None)\n",
    "    except Exception as e:\n",
    "        print(f\"Error getting ComfyUI URL: {e}\")\n",
    "        return None\n",
    "\n",
    "def test_vibe_voice_workflow(pod_id):\n",
    "    \"\"\"Test the VibeVoice workflow by sending a sample request.\"\"\"\n",
    "    comfyui_url = get_comfyui_url(pod_id)\n",
    "    if not comfyui_url:\n",
    "        print(\"Could not get ComfyUI URL for the pod.\")\n",
    "        return False\n",
    "    \n",
    "    print(f\"Testing VibeVoice workflow at {comfyui_url}\")\n",
    "    \n",
    "    # Test basic connectivity\n",
    "    try:\n",
    "        response = requests.get(f\"{comfyui_url}/\", timeout=10)\n",
    "        if response.status_code == 200:\n",
    "            print(\"✓ ComfyUI web interface is accessible\")\n",
    "        else:\n",
    "            print(f\"✗ ComfyUI returned status code: {response.status_code}\")\n",
    "            return False\n",
    "    except requests.exceptions.RequestException as e:\n",
    "        print(f\"✗ Cannot connect to ComfyUI: {e}\")\n",
    "        return False\n",
    "    \n",
    "    # Test if VibeVoice nodes are available\n",
    "    try:\n",
    "        response = requests.get(f\"{comfyui_url}/object_info\", timeout=10)\n",
    "        if response.status_code == 200:\n",
    "            object_info = response.json()\n",
    "            vibe_voice_nodes = [key for key in object_info.keys() if 'vibe' in key.lower() or 'voice' in key.lower()]\n",
    "            if vibe_voice_nodes:\n",
    "                print(f\"✓ Found VibeVoice nodes: {vibe_voice_nodes}\")\n",
    "                return True\n",
    "            else:\n",
    "                print(\"⚠ VibeVoice nodes not found in object info\")\n",
    "                return False\n",
    "        else:\n",
    "            print(f\"✗ Failed to get object info: {response.status_code}\")\n",
    "            return False\n",
    "    except requests.exceptions.RequestException as e:\n",
    "        print(f\"✗ Error getting object info: {e}\")\n",
    "        return False\n",
    "\n",
    "# Test the workflow if deployment was successful\n",
    "if 'pod_id' in locals() and 'success' in locals() and success:\n",
    "    print(\"Testing deployed VibeVoice workflow...\")\n",
    "    test_success = test_vibe_voice_workflow(pod_id)\n",
    "    \n",
    "    if test_success:\n",
    "        print(\"\\n✅ VibeVoice workflow is ready for use!\")\n",
    "        comfyui_url = get_comfyui_url(pod_id)\n",
    "        if comfyui_url:\n",
    "            print(f\"\\nAccess ComfyUI at: {comfyui_url}\")\n",
    "            print(\"You can now use the VibeVoice workflow in ComfyUI.\")\n",
    "    else:\n",
    "        print(\"\\n❌ VibeVoice workflow test failed.\")\n",
    "        print(\"Please check the pod logs for more information.\")\n",
    "else:\n",
    "    print(\"Skipping workflow test as deployment was not successful.\")"
   ]
  },
  {
   "cell_type": "markdown",
   "metadata": {},
   "source": [
    "## Summary\n",
    "\n",
    "This notebook has:\n",
    "\n",
    "1. **Installed the VibeVoice custom node** on your ComfyUI pod\n",
    "2. **Downloaded the VibeVoice-Large model** from HuggingFace\n",
    "3. **Configured a basic VibeVoice workflow** for text-to-speech generation\n",
    "4. **Validated the setup** to ensure everything is working correctly\n",
    "5. **Tested the workflow** to confirm it's ready for use\n",
    "\n",
    "### Next Steps:\n",
    "\n",
    "1. Visit the ComfyUI web interface using the URL provided above\n",
    "2. Load the `vibe_voice_basic.json` workflow from the workflows directory\n",
    "3. Upload a reference audio file and enter text to generate voice output\n",
    "4. Experiment with different parameters to fine-tune the output\n",
    "\n",
    "### Tips:\n",
    "\n",
    "1. **Reference Audio**: For best results, use a clear audio sample of the voice you want to mimic\n",
    "2. **Text Input**: Keep text concise for initial testing\n",
    "3. **Parameters**: Experiment with guidance scale and inference steps for different results\n",
    "4. **Output**: Generated audio will be saved in the ComfyUI output directory\n",
    "\n",
    "Remember to terminate your pod when finished to avoid unnecessary charges!"
   ]
  }
 ],
 "metadata": {
  "kernelspec": {
   "display_name": "Python 3",
   "language": "python",
   "name": "python3"
  },
  "language_info": {
   "codemirror_mode": {
    "name": "ipython",
    "version": 3
   },
   "file_extension": ".py",
   "mimetype": "text/x-python",
   "name": "python",
   "nbconvert_exporter": "python",
   "pygments_lexer": "ipython3",
   "version": "3.8.5"
  }
 },
 "nbformat": 4,
 "nbformat_minor": 4
}

## Comprehensive VibeVoice Testing



In addition to the basic connectivity test, we can run a comprehensive test of the VibeVoice workflow using the enhanced testing functionality in the VibeVoiceManager class.
def run_comprehensive_vibeVoice_test(pod_id, test_text="This is a comprehensive test of the VibeVoice workflow."):

    """Run comprehensive tests of the VibeVoice workflow."""

    print(f"Running comprehensive VibeVoice test on pod {pod_id}...")

    

    # Initialize VibeVoiceManager

    manager = VibeVoiceManager(RUNPOD_API_KEY)

    

    # Run comprehensive test

    test_results = manager.run_comprehensive_test(pod_id, test_text)

    

    # Display results

    print(f"\n{'='*50}")

    print("COMPREHENSIVE VIBEVOICE TEST RESULTS")

    print(f"{'='*50}")

    print(f"Overall Success: {'✓ PASS' if test_results.get('overall_success', False) else '✗ FAIL'}")

    print(f"Timestamp: {test_results.get('timestamp', 'N/A')}")

    

    # Setup validation results

    setup_validation = test_results.get('setup_validation', {})

    if setup_validation:

        print(f"\n1. Setup Validation:")

        print(f"   Success: {'✓ PASS' if setup_validation.get('success', False) else '✗ FAIL'}")

        if 'checks' in setup_validation:

            for check_name, check_result in setup_validation['checks'].items():

                print(f"   - {check_name}: {'✓ PASS' if check_result else '✗ FAIL'}")

        if 'errors' in setup_validation and setup_validation['errors']:

            print(f"   Errors:")

            for error in setup_validation['errors']:

                print(f"   - {error}")

        if 'warnings' in setup_validation and setup_validation['warnings']:

            print(f"   Warnings:")

            for warning in setup_validation['warnings']:

                print(f"   - {warning}")

    

    # Workflow test results

    workflow_test = test_results.get('workflow_test', {})

    if workflow_test:

        print(f"\n2. Workflow Execution Test:")

        print(f"   Success: {'✓ PASS' if workflow_test.get('success', False) else '✗ FAIL'}")

        if 'message' in workflow_test:

            print(f"   Message: {workflow_test['message']}")

        if 'outputs' in workflow_test and workflow_test['outputs']:

            print(f"   Output Files ({len(workflow_test['outputs'])}):")

            for output in workflow_test['outputs']:

                if isinstance(output, dict):

                    print(f"   - {output.get('filename', output)}")

                else:

                    print(f"   - {output}")

    

    # Audio validation results

    audio_validation = test_results.get('audio_validation', {})

    if audio_validation:

        print(f"\n3. Audio Output Validation:")

        print(f"   Success: {'✓ PASS' if audio_validation.get('success', False) else '✗ FAIL'}")

        if 'message' in audio_validation:

            print(f"   Message: {audio_validation['message']}")

        if 'file_size' in audio_validation:

            size_kb = audio_validation['file_size'] / 1024

            print(f"   File Size: {size_kb:.2f} KB")

        if 'file_type' in audio_validation:

            print(f"   File Type: {audio_validation['file_type']}")

    

    # Error handling

    if 'error' in test_results:

        print(f"\n❌ Error: {test_results['error']}")

    

    print(f"\n{'='*50}")

    

    return test_results.get('overall_success', False)



# Run comprehensive test if deployment was successful

if 'pod_id' in locals() and 'success' in locals() and success:

    print("\nRunning comprehensive VibeVoice test...")

    comprehensive_success = run_comprehensive_vibeVoice_test(pod_id)

    

    if comprehensive_success:

        print("\n🎉 Comprehensive VibeVoice test completed successfully!")

    else:

        print("\n❌ Comprehensive VibeVoice test failed.")

        print("Please check the detailed results above for more information.")

else:

    print("Skipping comprehensive test as deployment was not successful.")