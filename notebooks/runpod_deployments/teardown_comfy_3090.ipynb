{
 "cells": [
  {
   "cell_type": "markdown",
   "id": "abf79c23",
   "metadata": {},
   "source": [
    "# Teardown ComfyUI deployment on RunPod (3090)\n",
    "This notebook contains a safe teardown flow for a deployment created with the `deploy_comfy_3090` notebook. By default it is a dry run.\n",
    "\n",
    "**Assumptions:**\n",
    "- `runpodctl` is installed and you are authenticated.\n",
    "- The deployment name below matches the one you created."
   ]
  },
  {
   "cell_type": "code",
   "execution_count": null,
   "id": "837202d8",
   "metadata": {},
   "outputs": [],
   "source": [
    "import subprocess, os\n",
    "DRY_RUN = True  # Set to False to actually run the delete command\n",
    "def run(cmd):\n",
    "    print('\\n$ ' + ' '.join(cmd))\n",
    "    if not DRY_RUN:\n",
    "        subprocess.run(cmd, check=True)"
   ]
  },
  {
   "cell_type": "markdown",
   "id": "0d36f965",
   "metadata": {},
   "source": [
    "## Delete the deployment\n",
    "Change `deployment_name` to match your instance. The `deployments delete` subcommand is used as a reasonable assumption."
   ]
  },
  {
   "cell_type": "code",
   "execution_count": null,
   "id": "e126b52d",
   "metadata": {},
   "outputs": [],
   "source": [
    "deployment_name = 'comfy-3090-test'\n",
    "run(['runpodctl', 'deployments', 'delete', '--name', deployment_name])"
   ]
  },
  {
   "cell_type": "code",
   "execution_count": null,
   "id": "6313d2d8",
   "metadata": {},
   "outputs": [],
   "source": [
    "if DRY_RUN:\n",
    "    print('\n",
    "Dry run complete — set DRY_RUN = False to execute')"
   ]
  }
 ],
 "metadata": {
  "language_info": {
   "name": "python"
  }
 },
 "nbformat": 4,
 "nbformat_minor": 5
}
