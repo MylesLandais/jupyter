{
 "cells": [
  {
   "cell_type": "markdown",
   "id": "cb0919e9",
   "metadata": {},
   "source": [
    "# Example: Launch Comfy templates on RunPod (safe demo)\n",
    "\n",
    "This notebook provides a simple, team-friendly example to pick a GPU and a Comfy template and then fire a RunPod request from the `src.runpod` helper (which calls the `runpodctl` CLI).\n",
    "\n",
    "Important safety notes:\n",
    "- By default this notebook uses `DRY_RUN = True` so no actual pods will be created. Set `DRY_RUN = False` to perform real actions.\n",
    "- Ensure your `.env` (or environment) exposes `RUNPOD_API_KEY` when you intend to perform real deployments.\n",
    "- This example uses simple `input()` for choices so it works in classic and JupyterLab UIs without extra dependencies."
   ]
  },
  {
   "cell_type": "code",
   "execution_count": null,
   "id": "faf7cbc5",
   "metadata": {},
   "outputs": [],
   "source": [
    "import os\n",
    "from getpass import getpass\n",
    "\n",
    "# Safety flag: keep True by default to avoid accidental charges\n",
    "DRY_RUN = True\n",
    "\n",
    "# Optional: show whether RUNPOD_API_KEY is present (don't print the key)\n",
    "has_key = 'RUNPOD_API_KEY' in os.environ and bool(os.environ.get('RUNPOD_API_KEY'))\n",
    "print('RUNPOD_API_KEY present in environment:', has_key)\n",
    "if not has_key:\n",
    "    print('\n",
    "Tip: to run real deployments set RUNPOD_API_KEY in the container environment or in a .env file mapped into the container.\n",
    "')\n",
    "\n",
    "# Import our Runpod helper client (installed editable in the devcontainer)\n",
    "from src.runpod.client import RunpodClient\n",
    "\n",
    "# Create client (will call `runpodctl` in the container). You can also pass runpodctl path: RunpodClient('/usr/local/bin/runpodctl')\n",
    "rp = RunpodClient()"
   ]
  },
  {
   "cell_type": "code",
   "execution_count": null,
   "id": "c120faa9",
   "metadata": {},
   "outputs": [],
   "source": [
    "# Define available templates and GPU options for the team\n",
    "TEMPLATES = [\n",
    "    'comfy-template',\n",
    "    'comfy-vibeVoice',\n",
    "]\n",
    "GPU_CHOICES = ['3090', 'a10', 'v100', 'rtx6000']\n",
    "\n",
    "def choose_from_list(prompt: str, options: list) -> str:\n",
    "    print(prompt)\n",
    "    for i, opt in enumerate(options, start=1):\n",
    "        print(f'{i}) {opt}')\n",
    "    while True:\n",
    "        v = input('Select number (or press Enter for default 1): ').strip()\n",
    "        if v == '':\n",
    "            return options[0]\n",
    "        try:\n",
    "            idx = int(v) - 1\n",
    "            if 0 <= idx < len(options):\n",
    "                return options[idx]\n",
    "        except Exception:\n",
    "            pass\n",
    "        print('Invalid selection, try again.')"
   ]
  },
  {
   "cell_type": "code",
   "execution_count": null,
   "id": "51282dbb",
   "metadata": {},
   "outputs": [],
   "source": [
    "# Interactive selection (in a cell)\n",
    "template = choose_from_list('Choose a template to launch:', TEMPLATES)\n",
    "gpu = choose_from_list('Choose a GPU type:', GPU_CHOICES)\n",
    "deployment_name = input('Deployment name (default: comfy-demo): ').strip() or 'comfy-demo'\n",
    "scale = input('Scale (replicas) (default: 1): ').strip() or '1'\n",
    "print(f'Chosen: template={template}, gpu={gpu}, name={deployment_name}, scale={scale}')"
   ]
  },
  {
   "cell_type": "code",
   "execution_count": null,
   "id": "ffb8b656",
   "metadata": {},
   "outputs": [],
   "source": [
    "# Favorite the template (idempotent) and create a deployment (dry-run default)\n",
    "print('\n",
    "--- Running favorite on template (dry-run={}) ---'.format(DRY_RUN))\n",
    "rc, out, err = rp.favorite_template(template, dry_run=DRY_RUN)\n",
    "print('favorite ->', rc, out if out else err)\n",
    "\n",
    "print('\n",
    "--- Creating deployment (dry-run={}) ---'.format(DRY_RUN))\n",
    "rc2, out2, err2 = rp.create_deployment(template, gpu_type=gpu, name=deployment_name, extra_args=['--scale', str(scale)], dry_run=DRY_RUN)\n",
    "print('create ->', rc2, out2 if out2 else err2)\n",
    "\n",
    "if not DRY_RUN and rc2 == 0:\n",
    "    print('Deployment creation returned success. If this is a real deployment, use the RunPod dashboard or `runpodctl deployment list` to view status.')\n",
    "elif not DRY_RUN and rc2 != 0:\n",
    "    print('Deployment creation failed; see stderr for details.')"
   ]
  },
  {
   "cell_type": "markdown",
   "id": "563bc978",
   "metadata": {},
   "source": [
    "---\n",
    "Teardown notes:\n",
    "- If you created a real deployment, remove it when finished with `runpodctl deployment delete <name>` or provide a small teardown cell here to call `rp.delete_deployment(name, dry_run=False)`.\n",
    "- Consider adding cost controls (time-to-live) to deployments in `extra_args` for safer defaults."
   ]
  }
 ],
 "metadata": {
  "language_info": {
   "name": "python"
  }
 },
 "nbformat": 4,
 "nbformat_minor": 5
}
